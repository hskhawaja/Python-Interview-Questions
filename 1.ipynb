{
 "cells": [
  {
   "cell_type": "markdown",
   "metadata": {},
   "source": [
    "You are given a list of numbers J and a single number p.\n",
    "Write a function to return the minimum and maximum averages of the sequences of p numbers in J. \n",
    "Example:\n",
    "\n",
    "J = [4, 4, 4, 9, 10, 11, 12]\n",
    "\n",
    "p = 3\n",
    "\n",
    "The sequences will be:\n",
    "\n",
    "(4,4,4)\n",
    "\n",
    "(4,4,9)\n",
    "\n",
    "(4,9,10)\n",
    "\n",
    "(9,10,11)\n",
    "\n",
    "(10,11,12)\n",
    "\n",
    "\n",
    "Here the minimum average will be 4 and the maximum average will be 11, which corresponds to the first and last sequences. Solution will be provided in Python for premium users."
   ]
  },
  {
   "cell_type": "code",
   "execution_count": 11,
   "metadata": {
    "collapsed": true
   },
   "outputs": [],
   "source": [
    "import numpy as np\n",
    "from itertools import combinations\n",
    "\n",
    "def MinMaxAvg(a, b):\n",
    "    avgs = list()\n",
    "    ps = combinations(a, b)\n",
    "    for s in ps:\n",
    "        avgs.append(np.mean(s))\n",
    "    return min(avgs), max(avgs)"
   ]
  },
  {
   "cell_type": "code",
   "execution_count": 12,
   "metadata": {
    "collapsed": false
   },
   "outputs": [
    {
     "data": {
      "text/plain": [
       "(4.0, 11.0)"
      ]
     },
     "execution_count": 12,
     "metadata": {},
     "output_type": "execute_result"
    }
   ],
   "source": [
    "MinMaxAvg([4, 4, 4, 9, 10, 11, 12], 3)"
   ]
  },
  {
   "cell_type": "code",
   "execution_count": null,
   "metadata": {
    "collapsed": true
   },
   "outputs": [],
   "source": []
  }
 ],
 "metadata": {
  "anaconda-cloud": {},
  "kernelspec": {
   "display_name": "Python [conda root]",
   "language": "python",
   "name": "conda-root-py"
  },
  "language_info": {
   "codemirror_mode": {
    "name": "ipython",
    "version": 2
   },
   "file_extension": ".py",
   "mimetype": "text/x-python",
   "name": "python",
   "nbconvert_exporter": "python",
   "pygments_lexer": "ipython2",
   "version": "2.7.12"
  }
 },
 "nbformat": 4,
 "nbformat_minor": 1
}
